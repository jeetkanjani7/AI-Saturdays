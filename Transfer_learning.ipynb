{
 "cells": [
  {
   "cell_type": "code",
   "execution_count": 2,
   "metadata": {},
   "outputs": [],
   "source": [
    "import tensorflow as tf\n",
    "import keras \n",
    "from keras.applications.vgg16 import VGG16, preprocess_input, decode_predictions\n",
    "from keras.preprocessing import image\n",
    "from keras.layers import Flatten, Dense, Conv2D\n",
    "from keras.models import Model, Input, Sequential"
   ]
  },
  {
   "cell_type": "code",
   "execution_count": 3,
   "metadata": {},
   "outputs": [],
   "source": [
    "import numpy as np\n",
    "import os\n",
    "import matplotlib.pyplot as plt\n",
    "import cv2\n",
    "import pandas as pd\n",
    "%matplotlib inline"
   ]
  },
  {
   "cell_type": "code",
   "execution_count": 4,
   "metadata": {
    "scrolled": true
   },
   "outputs": [],
   "source": [
    "train_dir = '/media/jeetkanjani7/9A60-84DC/dataset/fashion-mnist_train.csv'\n",
    "test_dir = '/media/jeetkanjani7/9A60-84DC/dataset/fashion-mnist_test.csv'\n",
    "#paths = os.listdir(train_dir)\n",
    "#num_classes = len(paths) -1 \n",
    "#img_size = (512, 384, 3)"
   ]
  },
  {
   "cell_type": "code",
   "execution_count": 84,
   "metadata": {},
   "outputs": [
    {
     "name": "stdout",
     "output_type": "stream",
     "text": [
      "/media/jeetkanjani7/9A60-84DC/dataset/dataset-resized/dataset-resized/cardboard\n",
      "/media/jeetkanjani7/9A60-84DC/dataset/dataset-resized/dataset-resized/glass\n",
      "/media/jeetkanjani7/9A60-84DC/dataset/dataset-resized/dataset-resized/metal\n",
      "/media/jeetkanjani7/9A60-84DC/dataset/dataset-resized/dataset-resized/paper\n",
      "/media/jeetkanjani7/9A60-84DC/dataset/dataset-resized/dataset-resized/plastic\n",
      "/media/jeetkanjani7/9A60-84DC/dataset/dataset-resized/dataset-resized/trash\n"
     ]
    }
   ],
   "source": [
    "y = []\n",
    "file_path = []\n",
    "cnt = 0\n",
    "\n",
    "for i,class_name in zip(range(1,len(paths)), paths[1:]):\n",
    "    class_dir = os.path.join(train_dir, class_name)\n",
    "    print(class_dir)\n",
    "    for j,img_name in zip(range(len(os.listdir(class_dir))), os.listdir(class_dir)):#os.listdir(class_dir):\n",
    "        img_path = os.path.join(class_dir, img_name)\n",
    "        file_path.append(img_path)\n",
    "        currimg  = cv2.imread(img_path,0)\n",
    "        img_resize = cv2.resize(currimg, (img_size[0], img_size[1]))/255.\n",
    "        grayvec = np.reshape(img_resize,(1,-1))\n",
    "        curr_label = np.eye(num_classes, num_classes)[i:i+1, :]\n",
    "        if cnt == 0:\n",
    "            total_img =  grayvec\n",
    "            total_label =  curr_label\n",
    "        else:\n",
    "            total_img = np.concatenate((total_img, grayvec), axis=0)\n",
    "            total_label = np.concatenate((total_label, curr_label), axis=0)\n",
    "        cnt = cnt + 1"
   ]
  },
  {
   "cell_type": "code",
   "execution_count": 98,
   "metadata": {},
   "outputs": [],
   "source": [
    "rndidx = np.random.randint(cnt,size=cnt)\n",
    "trainidx = randidx[0:int(0.7*cnt)]\n",
    "#valididx = randidx[int(0.7*cnt):int(0.83*cnt)]\n",
    "testidx = randidx[int(0.7*cnt):cnt]\n",
    "#trainimgs = total_img[trainidx , :]\n",
    "#testimgs = total_img[testidx, :]\n",
    "#trainlabels = total_label[trainidx , :]\n",
    "#testlabels = total_label[testidx, :]"
   ]
  },
  {
   "cell_type": "code",
   "execution_count": null,
   "metadata": {},
   "outputs": [],
   "source": [
    "np.savez('trashnet.npz', trainimgs = total_img[trainidx , :], trainlabel=total_label[trainidx , :], testimg = total_img[testidx, :], testlabels = total_label[testidx, :])\n",
    "print(\"saved\")"
   ]
  },
  {
   "cell_type": "code",
   "execution_count": 40,
   "metadata": {},
   "outputs": [],
   "source": [
    "label_to_class = {}\n",
    "for i in range(1,len(paths)):\n",
    "    label_to_class[i] = paths[i]"
   ]
  },
  {
   "cell_type": "code",
   "execution_count": 55,
   "metadata": {},
   "outputs": [],
   "source": [
    "final_input = Input(shape = (512, 384, 3))\n",
    "base_model = VGG16(weights='imagenet', include_top=False,  input_tensor=final_input, input_shape=None)"
   ]
  },
  {
   "cell_type": "code",
   "execution_count": 13,
   "metadata": {},
   "outputs": [
    {
     "data": {
      "text/plain": [
       "<tf.Tensor 'predictions_1/Softmax:0' shape=(?, 6) dtype=float32>"
      ]
     },
     "execution_count": 13,
     "metadata": {},
     "output_type": "execute_result"
    }
   ],
   "source": [
    "x = base_model(final_input)\n",
    "x = Flatten(name='flatten')(x)\n",
    "x = Dense(4096, activation ='relu', name='fc1')(x)\n",
    "x = Dense(4096, activation ='relu', name='fc2')(x) \n",
    "x = Dense(num_classes, activation='softmax', name = 'predictions')(x)\n",
    "x = "
   ]
  },
  {
   "cell_type": "code",
   "execution_count": 9,
   "metadata": {},
   "outputs": [],
   "source": [
    "new_model = Model(final_input,  x)"
   ]
  },
  {
   "cell_type": "code",
   "execution_count": 10,
   "metadata": {},
   "outputs": [
    {
     "name": "stdout",
     "output_type": "stream",
     "text": [
      "_________________________________________________________________\n",
      "Layer (type)                 Output Shape              Param #   \n",
      "=================================================================\n",
      "input_1 (InputLayer)         (None, 512, 384, 3)       0         \n",
      "_________________________________________________________________\n",
      "vgg16 (Model)                (None, 16, 12, 512)       14714688  \n",
      "_________________________________________________________________\n",
      "flatten (Flatten)            (None, 98304)             0         \n",
      "_________________________________________________________________\n",
      "fc1 (Dense)                  (None, 4096)              402657280 \n",
      "_________________________________________________________________\n",
      "fc2 (Dense)                  (None, 4096)              16781312  \n",
      "_________________________________________________________________\n",
      "predictions (Dense)          (None, 6)                 24582     \n",
      "=================================================================\n",
      "Total params: 434,177,862\n",
      "Trainable params: 434,177,862\n",
      "Non-trainable params: 0\n",
      "_________________________________________________________________\n"
     ]
    }
   ],
   "source": [
    "\n",
    "    "
   ]
  },
  {
   "cell_type": "code",
   "execution_count": null,
   "metadata": {},
   "outputs": [],
   "source": []
  }
 ],
 "metadata": {
  "kernelspec": {
   "display_name": "Python 2",
   "language": "python",
   "name": "python2"
  },
  "language_info": {
   "codemirror_mode": {
    "name": "ipython",
    "version": 2
   },
   "file_extension": ".py",
   "mimetype": "text/x-python",
   "name": "python",
   "nbconvert_exporter": "python",
   "pygments_lexer": "ipython2",
   "version": "2.7.14"
  }
 },
 "nbformat": 4,
 "nbformat_minor": 2
}
